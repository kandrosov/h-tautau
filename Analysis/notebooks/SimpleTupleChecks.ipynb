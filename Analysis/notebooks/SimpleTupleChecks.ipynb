{
 "cells": [
  {
   "cell_type": "code",
   "execution_count": 2,
   "metadata": {},
   "outputs": [],
   "source": [
    "import numpy as np\n",
    "import pandas\n",
    "import uproot"
   ]
  },
  {
   "cell_type": "code",
   "execution_count": 3,
   "metadata": {},
   "outputs": [],
   "source": [
    "# Definitions\n",
    "\n",
    "# channels\n",
    "eTau, muTau, tauTau = (0, 1, 2)\n",
    "\n",
    "class SampleType:\n",
    "    Data = 0\n",
    "    H_tautau = 1\n",
    "    DY = 2\n",
    "    TT = 3\n",
    "    W = 4\n",
    "    DiBoson = 5\n",
    "    SingleTop = 6\n",
    "    EWK = 7\n",
    "    QCD = 8\n",
    "AllSampleTypes = { name : val for name, val in vars(SampleType).items() if not name.startswith('__') }\n",
    "\n",
    "class HiggsProductionType:\n",
    "    Undefined = 0\n",
    "    ggH = 1\n",
    "    VBF = 2\n",
    "    WH = 3\n",
    "    ZH = 4\n",
    "    ttH = 5\n",
    "    \n",
    "class TauDecayMode:\n",
    "    OneProng0Pi0 = 0\n",
    "    OneProng1Pi0 = 1\n",
    "    ThreeProngs0Pi0 = 10\n",
    "\n",
    "class GenMatch:\n",
    "    Electron = 1\n",
    "    Muon = 2\n",
    "    TauElectron = 3\n",
    "    TauMuon = 4\n",
    "    Tau = 5\n",
    "    NoMatch = 6 "
   ]
  },
  {
   "cell_type": "code",
   "execution_count": 39,
   "metadata": {},
   "outputs": [],
   "source": [
    "with uproot.open('/Users/Kes/workspace/u-pisa-particles/tuple_production/output/htt_tuples_v2/h_tautau.root') as file:\n",
    "    tree = file['events']\n",
    "    df = tree.arrays('*', outputtype=pandas.DataFrame)"
   ]
  },
  {
   "cell_type": "code",
   "execution_count": 134,
   "metadata": {},
   "outputs": [],
   "source": [
    "channel = tauTau\n",
    "df_sel = df[(df.channel_id == channel)]\n",
    "#df_sel = df[(df.channel_id == channel) & ((df.fitted_H_mass > 110) & (df.fitted_H_mass < 140))]\n",
    "#df_sel = df[(df.channel_id == channel) & ((df.fitted_H_mass < 110) | (df.fitted_H_mass > 140))]"
   ]
  },
  {
   "cell_type": "code",
   "execution_count": 135,
   "metadata": {},
   "outputs": [
    {
     "name": "stdout",
     "output_type": "stream",
     "text": [
      "37633.0\n"
     ]
    }
   ],
   "source": [
    "print(df_sel[df_sel.sample_type == SampleType.Data].weight.sum())"
   ]
  },
  {
   "cell_type": "code",
   "execution_count": 136,
   "metadata": {},
   "outputs": [
    {
     "name": "stdout",
     "output_type": "stream",
     "text": [
      "30930.664\n"
     ]
    }
   ],
   "source": [
    "print(df_sel[df_sel.sample_type >= 2].weight.sum())"
   ]
  },
  {
   "cell_type": "code",
   "execution_count": 137,
   "metadata": {},
   "outputs": [
    {
     "data": {
      "text/plain": [
       "3841.8188"
      ]
     },
     "execution_count": 137,
     "metadata": {},
     "output_type": "execute_result"
    }
   ],
   "source": [
    "df_sel[(df_sel.sample_type == SampleType.H_tautau) & (df_sel.higgs_gen_mass == 125)].weight.sum()"
   ]
  },
  {
   "cell_type": "code",
   "execution_count": 138,
   "metadata": {},
   "outputs": [
    {
     "data": {
      "text/plain": [
       "13684.449"
      ]
     },
     "execution_count": 138,
     "metadata": {},
     "output_type": "execute_result"
    }
   ],
   "source": [
    "n_mc = df_sel[(df_sel.sample_type >= 2) & (df_sel.sample_type != SampleType.QCD)].weight.sum() + \\\n",
    "       df_sel[(df_sel.sample_type == SampleType.H_tautau) & (df_sel.higgs_gen_mass == 125)].weight.sum()\n",
    "n_mc"
   ]
  },
  {
   "cell_type": "code",
   "execution_count": 139,
   "metadata": {},
   "outputs": [
    {
     "data": {
      "text/plain": [
       "19894.372788915094"
      ]
     },
     "execution_count": 139,
     "metadata": {},
     "output_type": "execute_result"
    }
   ],
   "source": [
    "n_qcd = df_sel[df_sel.sample_type == SampleType.QCD].weight.sum() / 1.06\n",
    "n_qcd"
   ]
  },
  {
   "cell_type": "code",
   "execution_count": 140,
   "metadata": {},
   "outputs": [
    {
     "data": {
      "text/plain": [
       "37633.0"
      ]
     },
     "execution_count": 140,
     "metadata": {},
     "output_type": "execute_result"
    }
   ],
   "source": [
    "n_data = df_sel[df_sel.sample_type == SampleType.Data].weight.sum()\n",
    "n_data"
   ]
  },
  {
   "cell_type": "code",
   "execution_count": 141,
   "metadata": {},
   "outputs": [
    {
     "data": {
      "text/plain": [
       "1.203785162535702"
      ]
     },
     "execution_count": 141,
     "metadata": {},
     "output_type": "execute_result"
    }
   ],
   "source": [
    "qcd_sf = (n_data - n_mc) / n_qcd\n",
    "qcd_sf"
   ]
  },
  {
   "cell_type": "code",
   "execution_count": 7,
   "metadata": {},
   "outputs": [
    {
     "data": {
      "text/plain": [
       "Index(['event_id', 'sample_type', 'higgs_prod_type', 'higgs_gen_mass',\n",
       "       'channel_id', 'weight', 'npv', 'px_1', 'py_1', 'pz_1', 'E_1', 'q_1',\n",
       "       'dxy_1', 'dz_1', 'decay_mode_1', 'gen_match_1', 'gen_px_1', 'gen_py_1',\n",
       "       'gen_pz_1', 'gen_E_1', 'px_2', 'py_2', 'pz_2', 'E_2', 'q_2', 'dxy_2',\n",
       "       'dz_2', 'decay_mode_2', 'gen_match_2', 'gen_px_2', 'gen_py_2',\n",
       "       'gen_pz_2', 'gen_E_2', 'met_px', 'met_py', 'met_cov_00', 'met_cov_01',\n",
       "       'met_cov_10', 'met_cov_11', 'fitted_H_mass', 'n_jets', 'leading_jet_px',\n",
       "       'leading_jet_py', 'leading_jet_pz', 'leading_jet_E', 'leading_jet_btag',\n",
       "       'leading_jet_hadronFlavour', 'subleading_jet_px', 'subleading_jet_py',\n",
       "       'subleading_jet_pz', 'subleading_jet_E', 'subleading_jet_btag',\n",
       "       'subleading_jet_hadronFlavour'],\n",
       "      dtype='object')"
      ]
     },
     "execution_count": 7,
     "metadata": {},
     "output_type": "execute_result"
    }
   ],
   "source": [
    "df.columns"
   ]
  },
  {
   "cell_type": "code",
   "execution_count": 13,
   "metadata": {},
   "outputs": [
    {
     "data": {
      "text/plain": [
       "array([  80,   90,  100,  110,  120,  125,  130,  140,  160,  180,  200,\n",
       "        250,  300,  350,  400,  450,  500,  600,  700,  800,  900, 1000],\n",
       "      dtype=int32)"
      ]
     },
     "execution_count": 13,
     "metadata": {},
     "output_type": "execute_result"
    }
   ],
   "source": [
    "all_mh = np.unique(df_sel.higgs_gen_mass)\n",
    "all_mh"
   ]
  },
  {
   "cell_type": "code",
   "execution_count": 14,
   "metadata": {},
   "outputs": [
    {
     "name": "stdout",
     "output_type": "stream",
     "text": [
      "80 19496.133\n",
      "90 21146.805\n",
      "100 23609.047\n",
      "110 24245.707\n",
      "120 25619.766\n",
      "125 14081.521\n",
      "130 26332.484\n",
      "140 23970.523\n",
      "160 22105.582\n",
      "180 20078.006\n",
      "200 17895.129\n",
      "250 12955.711\n",
      "300 9560.373\n",
      "350 7314.019\n",
      "400 5606.0483\n",
      "450 4336.5117\n",
      "500 3291.9434\n",
      "600 2040.0581\n",
      "700 1346.2295\n",
      "800 891.6215\n",
      "900 605.1172\n",
      "1000 410.03604\n"
     ]
    }
   ],
   "source": [
    "for mh in all_mh:\n",
    "    print(mh, df_sel[df_sel.higgs_gen_mass == mh].weight.sum())"
   ]
  },
  {
   "cell_type": "code",
   "execution_count": 33,
   "metadata": {},
   "outputs": [],
   "source": [
    "with uproot.open('/Users/Kes/workspace/u-pisa-particles/tuple_production/tuples/Skimmed_mini_htt_v3/GluGluHToTauTau-M125.root') as file:\n",
    "    tree = file['muTau']\n",
    "    df125 = tree.arrays('*', outputtype=pandas.DataFrame)\n",
    "    df125_summary = file['summary'].arrays('*', outputtype=pandas.DataFrame)"
   ]
  },
  {
   "cell_type": "code",
   "execution_count": 34,
   "metadata": {},
   "outputs": [
    {
     "name": "stdout",
     "output_type": "stream",
     "text": [
      "22835.826103149957 1470754.9578876393 27065.57158273029\n"
     ]
    }
   ],
   "source": [
    "print(df125.weight_total.sum(), df125_summary.totalShapeWeight[0],\n",
    "      df125.weight_total.sum() / df125_summary.totalShapeWeight[0] * 4.858E+01 * 35882.549)"
   ]
  },
  {
   "cell_type": "code",
   "execution_count": 31,
   "metadata": {},
   "outputs": [],
   "source": [
    "with uproot.open('/Users/Kes/workspace/u-pisa-particles/tuple_production/tuples/Skimmed_mini_htt_v2/GluGluHToTauTau-M120.root') as file:\n",
    "    tree = file['muTau']\n",
    "    df120 = tree.arrays('*', outputtype=pandas.DataFrame)\n",
    "    df120_summary = file['summary'].arrays('*', outputtype=pandas.DataFrame)"
   ]
  },
  {
   "cell_type": "code",
   "execution_count": 32,
   "metadata": {},
   "outputs": [
    {
     "name": "stdout",
     "output_type": "stream",
     "text": [
      "13865.187355276441 998082.5802862392 26030.314819852498\n"
     ]
    }
   ],
   "source": [
    "print(df120.weight_total.sum(), df120_summary.totalShapeWeight[0],\n",
    "      df120.weight_total.sum() / df120_summary.totalShapeWeight[0] * 5.222E+01 * 35882.549)"
   ]
  },
  {
   "cell_type": "code",
   "execution_count": null,
   "metadata": {},
   "outputs": [],
   "source": []
  }
 ],
 "metadata": {
  "kernelspec": {
   "display_name": "Python 3",
   "language": "python",
   "name": "python3"
  },
  "language_info": {
   "codemirror_mode": {
    "name": "ipython",
    "version": 3
   },
   "file_extension": ".py",
   "mimetype": "text/x-python",
   "name": "python",
   "nbconvert_exporter": "python",
   "pygments_lexer": "ipython3",
   "version": "3.6.8"
  }
 },
 "nbformat": 4,
 "nbformat_minor": 2
}
